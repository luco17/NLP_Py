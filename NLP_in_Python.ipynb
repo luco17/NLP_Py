{
 "cells": [
  {
   "cell_type": "markdown",
   "metadata": {},
   "source": [
    "## Intro to NLP in Python\n",
    "\n",
    "### Regex\n",
    "Regular Expressions 'regex' allow you to perform various operations on strings, e.g. splitting, replacement, parsing. Some common patterns include:\n",
    "- \\w+, matches a word\n",
    "- \\d, matches any digit\n",
    "- .*, matches wildcards\n",
    "- \\s, matches space\n",
    "- '+' or *, are greedy, matching repeats \n",
    "- Changing regex symbol to capitals e.g. \\S negates the match \n",
    "- [a-z], bracketing creates groups (e.g. all lowercase letters)"
   ]
  },
  {
   "cell_type": "code",
   "execution_count": 1,
   "metadata": {},
   "outputs": [],
   "source": [
    "%matplotlib inline"
   ]
  },
  {
   "cell_type": "code",
   "execution_count": 46,
   "metadata": {},
   "outputs": [],
   "source": [
    "#Importing the required modules\n",
    "import re\n",
    "import matplotlib.pyplot as plt\n",
    "import nltk\n",
    "import spacy\n",
    "from nltk.stem import WordNetLemmatizer\n",
    "from collections import Counter, defaultdict\n",
    "import pandas as pd, numpy as np"
   ]
  },
  {
   "cell_type": "code",
   "execution_count": 34,
   "metadata": {},
   "outputs": [],
   "source": [
    "#ML modules\n",
    "from sklearn.feature_extraction.text import CountVectorizer\n",
    "from sklearn.model_selection import train_test_split\n",
    "from sklearn.feature_extraction.text import TfidfVectorizer\n",
    "from sklearn import metrics\n",
    "from sklearn.naive_bayes import MultinomialNB"
   ]
  },
  {
   "cell_type": "code",
   "execution_count": 3,
   "metadata": {},
   "outputs": [],
   "source": [
    "#Reading in the data\n",
    "with open('toafk_c1.txt', 'r') as file:\n",
    "    chapter_one = file.read().replace('\\n', '')"
   ]
  },
  {
   "cell_type": "markdown",
   "metadata": {},
   "source": [
    "#### Examples\n",
    "Here's a sample string:"
   ]
  },
  {
   "cell_type": "code",
   "execution_count": 3,
   "metadata": {},
   "outputs": [],
   "source": [
    "##A string to test\n",
    "ex_str = \"\"\"'Let's have a think about what to do', said Merlyn. \n",
    "'There are 3 crocs, 2 sparrows and a caterpillar.\n",
    "If we take them to the King he may add them to the Royal Menagerie'.\"\"\""
   ]
  },
  {
   "cell_type": "code",
   "execution_count": 10,
   "metadata": {},
   "outputs": [
    {
     "data": {
      "text/plain": [
       "[\"'Let's have a think about what to do', said Merlyn\",\n",
       " \" \\n'There are 3 crocs, 2 sparrows and a caterpillar\",\n",
       " \"\\nIf we take them to the King he may add them to the Royal Menagerie'\",\n",
       " '']"
      ]
     },
     "execution_count": 10,
     "metadata": {},
     "output_type": "execute_result"
    }
   ],
   "source": [
    "#Finding sentences\n",
    "sentences = r\"[.?!]\"\n",
    "(re.split(sentences, ex_str))"
   ]
  },
  {
   "cell_type": "code",
   "execution_count": 11,
   "metadata": {},
   "outputs": [
    {
     "name": "stdout",
     "output_type": "stream",
     "text": [
      "['Let', 'Merlyn', 'There', 'If', 'King', 'Royal', 'Menagerie']\n"
     ]
    }
   ],
   "source": [
    "#Finding capitalized words\n",
    "caps = r\"[A-Z]\\w+\"\n",
    "print(re.findall(caps, ex_str))"
   ]
  },
  {
   "cell_type": "code",
   "execution_count": 12,
   "metadata": {},
   "outputs": [
    {
     "name": "stdout",
     "output_type": "stream",
     "text": [
      "[\"'Let's\", 'have', 'a', 'think', 'about', 'what', 'to', \"do',\", 'said', 'Merlyn.', \"'There\", 'are', '3', 'crocs,', '2', 'sparrows', 'and', 'a', 'caterpillar.', 'If', 'we', 'take', 'them', 'to', 'the', 'King', 'he', 'may', 'add', 'them', 'to', 'the', 'Royal', \"Menagerie'.\"]\n"
     ]
    }
   ],
   "source": [
    "#Finding spaces\n",
    "spaces = r\"\\s+\"\n",
    "print(re.split(spaces, ex_str))"
   ]
  },
  {
   "cell_type": "code",
   "execution_count": 13,
   "metadata": {},
   "outputs": [
    {
     "name": "stdout",
     "output_type": "stream",
     "text": [
      "['3', '2']\n"
     ]
    }
   ],
   "source": [
    "#Extracting digits\n",
    "digs = r\"\\d+\"\n",
    "print(re.findall(digs, ex_str))"
   ]
  },
  {
   "cell_type": "markdown",
   "metadata": {},
   "source": [
    "#### Tokenization\n",
    "\n",
    "Tokenization breaks strings into tokens, essentially smaller pieces of the original string.\n",
    "NLTK is a useful toolkit for processing token, some examples are given below:"
   ]
  },
  {
   "cell_type": "code",
   "execution_count": 11,
   "metadata": {},
   "outputs": [],
   "source": [
    "#Breaking scene one into sentences\n",
    "sentences = nltk.sent_tokenize(chapter_one)"
   ]
  },
  {
   "cell_type": "code",
   "execution_count": 12,
   "metadata": {},
   "outputs": [
    {
     "data": {
      "text/plain": [
       "['The governess was always getting muddled with her astrolabe, and when she got specially muddled she would take it out of the Wart by rapping his knuckles.',\n",
       " \"She did not rap Kay's knuckles, because when Kay grew older he would be Sir Kay, the master of the estate.\",\n",
       " 'The Wart was called the Wart because it more or less rhymed with Art, which was short for his real name.']"
      ]
     },
     "execution_count": 12,
     "metadata": {},
     "output_type": "execute_result"
    }
   ],
   "source": [
    "sentences[1:4]"
   ]
  },
  {
   "cell_type": "code",
   "execution_count": 13,
   "metadata": {},
   "outputs": [],
   "source": [
    "#Breaking sentences into words\n",
    "words = nltk.word_tokenize(sentences[4])"
   ]
  },
  {
   "cell_type": "code",
   "execution_count": 15,
   "metadata": {},
   "outputs": [],
   "source": [
    "#Unique tokens across across entire chapter\n",
    "unique_tokens = set(nltk.word_tokenize(chapter_one))"
   ]
  },
  {
   "cell_type": "markdown",
   "metadata": {},
   "source": [
    "**Re.match() vs Re.search()**\n",
    "\n",
    "re.match() searches for whole words or the beginning of a string, whereas re.search() searches all parts of the string. Examples below:"
   ]
  },
  {
   "cell_type": "code",
   "execution_count": 16,
   "metadata": {},
   "outputs": [
    {
     "name": "stdout",
     "output_type": "stream",
     "text": [
      "210 219\n"
     ]
    }
   ],
   "source": [
    "#Finding the location of a word in a doc\n",
    "match = re.search('astrolabe', chapter_one)\n",
    "\n",
    "print(match.start(), match.end())"
   ]
  },
  {
   "cell_type": "code",
   "execution_count": 17,
   "metadata": {},
   "outputs": [
    {
     "name": "stdout",
     "output_type": "stream",
     "text": [
      "None\n"
     ]
    }
   ],
   "source": [
    "#Finding anything in square brackets\n",
    "p1 = r\"\\[.*\\]\"\n",
    "print(re.search(p1, chapter_one))"
   ]
  },
  {
   "cell_type": "code",
   "execution_count": 18,
   "metadata": {},
   "outputs": [],
   "source": [
    "#Example string\n",
    "ex_string2 = \"\"\"\n",
    "Crier#2: Hark! The King cometh, lay down your weapons and kneel.\n",
    "\"\"\""
   ]
  },
  {
   "cell_type": "code",
   "execution_count": 20,
   "metadata": {},
   "outputs": [
    {
     "data": {
      "text/plain": [
       "['Crier',\n",
       " '#2',\n",
       " 'Hark',\n",
       " '!',\n",
       " 'The',\n",
       " 'King',\n",
       " 'cometh',\n",
       " 'lay',\n",
       " 'down',\n",
       " 'your',\n",
       " 'weapons',\n",
       " 'and',\n",
       " 'kneel']"
      ]
     },
     "execution_count": 20,
     "metadata": {},
     "output_type": "execute_result"
    }
   ],
   "source": [
    "#Pattern to find groups of token, including the hash symbol\n",
    "pattern = r\"(\\w+|#\\d|\\?|!)\"\n",
    "nltk.regexp_tokenize(ex_string2, pattern)"
   ]
  },
  {
   "cell_type": "code",
   "execution_count": 21,
   "metadata": {},
   "outputs": [
    {
     "data": {
      "text/plain": [
       "['Crier', 'Hark', 'The', 'King']"
      ]
     },
     "execution_count": 21,
     "metadata": {},
     "output_type": "execute_result"
    }
   ],
   "source": [
    "#Pattern to find only capitals\n",
    "pattern = r\"[A-Z]\\w+\"\n",
    "nltk.regexp_tokenize(ex_string2, pattern)"
   ]
  },
  {
   "cell_type": "code",
   "execution_count": 22,
   "metadata": {},
   "outputs": [],
   "source": [
    "#Using list comprehensions to calculate the length of sentences in the play\n",
    "words = [nltk.regexp_tokenize(s, r\"\\w+\") for s in sentences]\n",
    "sentence_lengths = [len(w) for w in words]\n"
   ]
  },
  {
   "cell_type": "code",
   "execution_count": 23,
   "metadata": {},
   "outputs": [
    {
     "data": {
      "image/png": "[encoded data removed]",
      "text/plain": [
       "<Figure size 1296x576 with 1 Axes>"
      ]
     },
     "metadata": {
      "needs_background": "light"
     },
     "output_type": "display_data"
    }
   ],
   "source": [
    "fig, ax = plt.subplots(figsize=(18, 8))\n",
    "plt.hist(sentence_lengths)\n",
    "plt.title('Words per sentence')\n",
    "plt.xlabel('No. Words')\n",
    "plt.ylabel('Count')\n",
    "plt.show()"
   ]
  },
  {
   "cell_type": "markdown",
   "metadata": {},
   "source": [
    "### Bag of words\n",
    "A useful tool for counting word frequency and assessing text sentiment"
   ]
  },
  {
   "cell_type": "markdown",
   "metadata": {},
   "source": [
    "Basic bag of words doesn't strip punctuation, is case-sensitive and includes common 'stop words' such as 'the, and, it, by' etc. This can be seen below:"
   ]
  },
  {
   "cell_type": "code",
   "execution_count": 3,
   "metadata": {},
   "outputs": [],
   "source": [
    "{\n",
    "    \"tags\": [\n",
    "        \"removecell\",\n",
    "    ]\n",
    "}\n",
    "\n",
    "english_stops = ['i',\n",
    " 'me',\n",
    " 'my',\n",
    " 'myself',\n",
    " 'we',\n",
    " 'our',\n",
    " 'ours',\n",
    " 'ourselves',\n",
    " 'you',\n",
    " 'your',\n",
    " 'yours',\n",
    " 'yourself',\n",
    " 'yourselves',\n",
    " 'he',\n",
    " 'him',\n",
    " 'his',\n",
    " 'himself',\n",
    " 'she',\n",
    " 'her',\n",
    " 'hers',\n",
    " 'herself',\n",
    " 'it',\n",
    " 'its',\n",
    " 'itself',\n",
    " 'they',\n",
    " 'them',\n",
    " 'their',\n",
    " 'theirs',\n",
    " 'themselves',\n",
    " 'what',\n",
    " 'which',\n",
    " 'who',\n",
    " 'whom',\n",
    " 'this',\n",
    " 'that',\n",
    " 'these',\n",
    " 'those',\n",
    " 'am',\n",
    " 'is',\n",
    " 'are',\n",
    " 'was',\n",
    " 'were',\n",
    " 'be',\n",
    " 'been',\n",
    " 'being',\n",
    " 'have',\n",
    " 'has',\n",
    " 'had',\n",
    " 'having',\n",
    " 'do',\n",
    " 'does',\n",
    " 'did',\n",
    " 'doing',\n",
    " 'a',\n",
    " 'an',\n",
    " 'the',\n",
    " 'and',\n",
    " 'but',\n",
    " 'if',\n",
    " 'or',\n",
    " 'because',\n",
    " 'as',\n",
    " 'until',\n",
    " 'while',\n",
    " 'of',\n",
    " 'at',\n",
    " 'by',\n",
    " 'for',\n",
    " 'with',\n",
    " 'about',\n",
    " 'against',\n",
    " 'between',\n",
    " 'into',\n",
    " 'through',\n",
    " 'during',\n",
    " 'before',\n",
    " 'after',\n",
    " 'above',\n",
    " 'below',\n",
    " 'to',\n",
    " 'from',\n",
    " 'up',\n",
    " 'down',\n",
    " 'in',\n",
    " 'out',\n",
    " 'on',\n",
    " 'off',\n",
    " 'over',\n",
    " 'under',\n",
    " 'again',\n",
    " 'further',\n",
    " 'then',\n",
    " 'once',\n",
    " 'here',\n",
    " 'there',\n",
    " 'when',\n",
    " 'where',\n",
    " 'why',\n",
    " 'how',\n",
    " 'all',\n",
    " 'any',\n",
    " 'both',\n",
    " 'each',\n",
    " 'few',\n",
    " 'more',\n",
    " 'most',\n",
    " 'other',\n",
    " 'some',\n",
    " 'such',\n",
    " 'no',\n",
    " 'nor',\n",
    " 'not',\n",
    " 'only',\n",
    " 'own',\n",
    " 'same',\n",
    " 'so',\n",
    " 'than',\n",
    " 'too',\n",
    " 'very',\n",
    " 's',\n",
    " 't',\n",
    " 'can',\n",
    " 'will',\n",
    " 'just',\n",
    " 'don',\n",
    " 'should',\n",
    " 'now',\n",
    " 'd',\n",
    " 'll',\n",
    " 'm',\n",
    " 'o',\n",
    " 're',\n",
    " 've',\n",
    " 'y',\n",
    " 'ain',\n",
    " 'aren',\n",
    " 'couldn',\n",
    " 'didn',\n",
    " 'doesn',\n",
    " 'hadn',\n",
    " 'hasn',\n",
    " 'haven',\n",
    " 'isn',\n",
    " 'ma',\n",
    " 'mightn',\n",
    " 'mustn',\n",
    " 'needn',\n",
    " 'shan',\n",
    " 'shouldn',\n",
    " 'wasn',\n",
    " 'weren',\n",
    " 'won',\n",
    " 'wouldn',\n",
    " '']"
   ]
  },
  {
   "cell_type": "code",
   "execution_count": 24,
   "metadata": {},
   "outputs": [
    {
     "data": {
      "text/plain": [
       "[(',', 246),\n",
       " ('the', 226),\n",
       " ('.', 160),\n",
       " ('and', 105),\n",
       " ('``', 92),\n",
       " ('to', 82),\n",
       " ('a', 82),\n",
       " ('was', 78),\n",
       " ('of', 73),\n",
       " ('it', 53)]"
      ]
     },
     "execution_count": 24,
     "metadata": {},
     "output_type": "execute_result"
    }
   ],
   "source": [
    "#Basic bag of words\n",
    "tokens = nltk.word_tokenize(chapter_one)\n",
    "#Convert to lower case\n",
    "lc = [t.lower() for t in tokens]\n",
    "count = Counter(lc)\n",
    "count.most_common(10)"
   ]
  },
  {
   "cell_type": "code",
   "execution_count": 25,
   "metadata": {},
   "outputs": [
    {
     "data": {
      "text/plain": [
       "[('sir', 40),\n",
       " ('ector', 27),\n",
       " ('said', 27),\n",
       " ('kay', 21),\n",
       " ('grummore', 15),\n",
       " ('wart', 13),\n",
       " ('boy', 13),\n",
       " ('like', 12),\n",
       " ('would', 9),\n",
       " ('one', 9)]"
      ]
     },
     "execution_count": 25,
     "metadata": {},
     "output_type": "execute_result"
    }
   ],
   "source": [
    "#Pre-processing\n",
    "#keeping only alphabetics\n",
    "alphas = [t for t in lc if t.isalpha()]\n",
    "#Removing stop words\n",
    "stop_strip = [t for t in alphas if t not in english_stops]\n",
    "#Initialising lemmatizer\n",
    "wnl = WordNetLemmatizer()\n",
    "lemd = [wnl.lemmatize(t) for t in stop_strip]\n",
    "#Creating a word counter and displaying the most common words\n",
    "bow = Counter(lemd)\n",
    "bow.most_common(10)"
   ]
  },
  {
   "cell_type": "markdown",
   "metadata": {},
   "source": [
    "### TF-IDF: Term Frequency - Inverse Document Frequency\n",
    "Used to pull out important terms from a document above and beyond what we expect the document to feature"
   ]
  },
  {
   "cell_type": "markdown",
   "metadata": {},
   "source": [
    "### Named Entity Recognition\n",
    "Identifies important named entities in documents"
   ]
  },
  {
   "cell_type": "code",
   "execution_count": 54,
   "metadata": {},
   "outputs": [],
   "source": [
    "#Breaking chapters into constituent tokens\n",
    "sentences = nltk.sent_tokenize(chapter_one)"
   ]
  },
  {
   "cell_type": "code",
   "execution_count": 55,
   "metadata": {},
   "outputs": [],
   "source": [
    "#Breaking sentences into words\n",
    "sent_tokes = [nltk.word_tokenize(sent) for sent in sentences]"
   ]
  },
  {
   "cell_type": "code",
   "execution_count": 60,
   "metadata": {},
   "outputs": [],
   "source": [
    "#Finding the parts of speech using pos_tag'ing.\n",
    "pos_sent = [nltk.pos_tag(sent) for sent in sent_tokes]"
   ]
  },
  {
   "cell_type": "code",
   "execution_count": 63,
   "metadata": {},
   "outputs": [
    {
     "name": "stdout",
     "output_type": "stream",
     "text": [
      "(NE Summulae/NNP Logicales/NNP)\n",
      "(NE Organon/NNP)\n",
      "(NE Astrology/NNP)\n",
      "(NE Kay/NNP)\n",
      "(NE Kay/NNP)\n",
      "(NE Sir/NNP Kay/NNP)\n",
      "(NE Wart/NNP)\n",
      "(NE Art/NNP)\n",
      "(NE Kay/NNP)\n",
      "(NE Kay/NNP)\n",
      "(NE Kay/NNP)\n",
      "(NE Sir/NNP Ector/NNP)\n",
      "(NE Kay/NNP)\n",
      "(NE Fridays/NNP)\n",
      "(NE Kay/NNP)\n",
      "(NE Sir/NNP Ector/NNP)\n",
      "(NE Happiest/NNP)\n",
      "(NE Future/NNP Simple/NNP)\n",
      "(NE Ector/NNP)\n",
      "(NE Rattlin/NNP)\n",
      "(NE Sir/NNP Bruce/NNP Saunce/NNP Pité/NNP)\n",
      "(NE Weedon/NNP Bushes/NNP)\n",
      "(NE Mixbury/NNP Plantation/NNP)\n",
      "(NE Wicken/NNP Wood/NNP)\n",
      "(NE Sir/NNP Ector/NNP)\n",
      "(NE Sir/NNP Grummore/NNP)\n",
      "(NE Sir/NNP Ector/NNP)\n",
      "(NE Sir/NNP Grummore/NNP)\n",
      "(NE Sir/NNP Ector/NNP)\n",
      "(NE Eton/NNP)\n",
      "(NE Sir/NNP Grummore/NNP)\n",
      "(NE Eton/NNP)\n",
      "(NE College/NNP)\n",
      "(NE Blessed/JJ Mary/NNP)\n",
      "(NE Metheglyn/NNP)\n",
      "(NE Port/NNP)\n",
      "(NE Sir/NNP Ector/NNP)\n",
      "(NE Burbly/NNP Water/NNP)\n",
      "(NE Sir/NNP Grummore/NNP)\n",
      "(NE Sir/NNP Grummore/NNP)\n",
      "(NE Sir/NNP Grummore/NNP)\n",
      "(NE Sir/NNP Ector/NNP)\n",
      "(NE Sir/NNP Grummore/NNP)\n",
      "(NE Run/NNP)\n",
      "(NE Sir/NNP Ector/NNP)\n",
      "(NE Sir/NNP Grummore/NNP)\n",
      "(NE Sir/NNP Ector/NNP)\n",
      "(NE Sir/NNP Grummore/NNP)\n",
      "(NE Sir/NNP Ector/NNP)\n",
      "(NE Humberland/NNP Newsman/NNP)\n",
      "(NE Cardoile/NNP Advertiser/NNP)\n",
      "(NE Sir/NNP Grummore/NNP)\n",
      "(NE Sir/NNP Ector/NNP)\n",
      "(NE Haec/NNP)\n",
      "(NE Hoc/NNP)\n",
      "(NE Sir/NNP Ector/NNP)\n",
      "(NE Sir/NNP)\n",
      "(NE Grummore/NNP Grummursum/NNP)\n",
      "(NE Sir/NNP Ector/NNP)\n",
      "(NE Sir/NNP Grummore/NNP)\n",
      "(NE Sir/NNP Ector/NNP)\n",
      "(NE Half/NN)\n",
      "(NE Old/NNP England/NNP)\n",
      "(NE Everybody/NN)\n",
      "(NE Red/NNP Indians/NNPS)\n",
      "(NE Sir/NNP Ector/NNP)\n",
      "(NE Ector/NNP)\n",
      "(NE Sir/NNP Ector/NNP)\n",
      "(NE Kay/NNP)\n",
      "(NE Sir/NNP Grummore/NNP)\n",
      "(NE Sir/NNP Ector/NNP)\n",
      "(NE Kay/NNP)\n",
      "(NE Sir/NNP Ector/NNP)\n",
      "(NE Kay/NNP)\n",
      "(NE Cully/NNP)\n",
      "(NE Sir/NNP Ector/NNP)\n",
      "(NE Wart/NNP)\n",
      "(NE Kay/NNP)\n",
      "(NE Kay/NNP)\n",
      "(NE Nobody/NN)\n",
      "(NE Kay/NNP)\n",
      "(NE Wart/NNP)\n",
      "(NE Mews/NNP)\n",
      "(NE Mews/NNP)\n",
      "(NE Cardamum/NNP)\n",
      "(NE Ginger/NNP)\n",
      "(NE Barley/NNP Sugar/NNP)\n",
      "(NE Wrangle/NNP)\n",
      "(NE Craye/NNP)\n",
      "(NE Vertigo/NNP)\n",
      "(NE Indian/JJ)\n",
      "(NE Ector/NNP)\n",
      "(NE Kay/NNP)\n",
      "(NE Sir/NNP Ector/NNP)\n",
      "(NE Sir/NNP Ector/NNP)\n",
      "(NE Sir/NNP Ector/NNP)\n",
      "(NE Kay/NNP)\n",
      "(NE Kay/NNP)\n",
      "(NE Nobody/NN)\n",
      "(NE Kay/NNP)\n",
      "(NE Wart/NNP)\n",
      "(NE Kay/NNP)\n",
      "(NE Kay/NNP)\n",
      "(NE Cully/NNP)\n",
      "(NE Wart/NNP)\n"
     ]
    }
   ],
   "source": [
    "#Breaking them into Named entities and printing them\n",
    "NE_chunks = nltk.ne_chunk_sents(pos_sent, binary = True)\n",
    "\n",
    "for sent in NE_chunks:\n",
    "    for chunk in sent:\n",
    "        if hasattr(chunk, 'label') and chunk.label() == 'NE':\n",
    "            print(chunk)"
   ]
  },
  {
   "cell_type": "code",
   "execution_count": 76,
   "metadata": {},
   "outputs": [],
   "source": [
    "#Charting named entity types in the first chapter\n",
    "##Building a chunked sentence list with non-binary cat names\n",
    "NE_chunks2 = list(nltk.ne_chunk_sents(pos_sent, binary = False))"
   ]
  },
  {
   "cell_type": "code",
   "execution_count": 78,
   "metadata": {},
   "outputs": [],
   "source": [
    "##Using a default dict to count, putting 'int' as argument defaults value to 0\n",
    "ner_cats = defaultdict(int)\n",
    "\n",
    "for sent in NE_chunks2:\n",
    "    for chunk in sent:\n",
    "        if hasattr(chunk, 'label'):\n",
    "            ner_cats[chunk.label()] += 1"
   ]
  },
  {
   "cell_type": "code",
   "execution_count": 80,
   "metadata": {},
   "outputs": [],
   "source": [
    "##Creating chart labels and extracting values\n",
    "labels = list(ner_cats.keys())\n",
    "values = [ner_cats.get(l) for l in labels]"
   ]
  },
  {
   "cell_type": "code",
   "execution_count": 84,
   "metadata": {},
   "outputs": [
    {
     "data": {
      "image/png": "[encoded data removed]",
      "text/plain": [
       "<Figure size 1296x576 with 1 Axes>"
      ]
     },
     "metadata": {},
     "output_type": "display_data"
    }
   ],
   "source": [
    "##Plotting\n",
    "fig, ax = plt.subplots(figsize = (18, 8))\n",
    "plt.pie(values, labels = labels, autopct = '%1.1f%%', startangle = 140)\n",
    "plt.title('Proportions of named entities by type')\n",
    "plt.show()"
   ]
  },
  {
   "cell_type": "markdown",
   "metadata": {},
   "source": [
    "### Using SPACY"
   ]
  },
  {
   "cell_type": "code",
   "execution_count": 26,
   "metadata": {},
   "outputs": [],
   "source": [
    "nlp = spacy.load('en', tagger = False, parser = False, matcher = False)"
   ]
  },
  {
   "cell_type": "code",
   "execution_count": 27,
   "metadata": {},
   "outputs": [],
   "source": [
    "#Reading in the data\n",
    "with open('tsits.txt', 'r') as file:\n",
    "    tsits = file.read().replace('\\n', '')"
   ]
  },
  {
   "cell_type": "code",
   "execution_count": 33,
   "metadata": {},
   "outputs": [],
   "source": [
    "doc = nlp(chapter_one)"
   ]
  },
  {
   "cell_type": "code",
   "execution_count": 29,
   "metadata": {},
   "outputs": [
    {
     "name": "stdout",
     "output_type": "stream",
     "text": [
      "DATE Mondays\n",
      "DATE Wednesdays and Fridays\n",
      "ORG Court Hand\n",
      "ORG Summulae Logicales\n",
      "DATE the week\n",
      "GPE Organon\n",
      "PERSON Kay\n",
      "PERSON Kay\n",
      "PERSON Kay\n",
      "PERSON Wart\n",
      "PERSON Wart\n",
      "PERSON Art\n",
      "PERSON Kay\n",
      "PERSON Kay\n",
      "PERSON Kay\n",
      "PERSON Ector\n",
      "PERSON Kay\n",
      "DATE three years\n",
      "DATE Mondays and Fridays\n",
      "DATE Tuesdays\n",
      "DATE Wednesdays\n",
      "DATE Thursdays\n",
      "DATE Saturdays\n",
      "PERSON Kay\n",
      "PERSON Ector\n",
      "ORDINAL first\n",
      "LANGUAGE Latin\n",
      "TIME five o'clock\n",
      "PERSON Grummore Grummursum\n",
      "LAW the Future Simple of Utor\n",
      "ORDINAL third\n",
      "CARDINAL ninety-seven\n",
      "PERSON Ector\n",
      "PERSON Grummore\n",
      "PERSON Rattlin\n",
      "PERSON Bruce Saunce Pité\n",
      "GPE Weedon Bushes\n",
      "ORG Mixbury Plantation\n",
      "GPE Wicken Wood\n",
      "QUANTITY twenty-five miles\n",
      "NORP Latin\n",
      "PERSON Grummore\n",
      "PERSON Ector\n",
      "PERSON Grummore\n",
      "PERSON Ector\n",
      "PERSON Eton\n",
      "PERSON Grummore\n",
      "PERSON Eton\n",
      "ORG the College of Blessed Mary\n",
      "DATE 1440\n",
      "GPE Metheglyn\n",
      "ORG Port\n",
      "PERSON Ector\n",
      "ORG the Burbly Water.\"\"Galapas\n",
      "PERSON Grummore.\"That\n",
      "PERSON Grummore\n",
      "PERSON Grummore\n",
      "PERSON Ector\n",
      "PERSON Grummore\n",
      "QUANTITY twenty-five miles\n",
      "PERSON Ector\n",
      "PERSON Grummore\n",
      "PERSON Ector\n",
      "PERSON Grummore.\"I\n",
      "PERSON Ector\n",
      "ORG the Humberland Newsman and Cardoile Advertiser.\"\"The\n",
      "PERSON Grummore\n",
      "PERSON Haec\n",
      "PERSON Ector\n",
      "PERSON Grummore\n",
      "PERSON Grummore Grummursum\n",
      "DATE next day\n",
      "PERSON Ector\n",
      "PERSON Grummore\n",
      "DATE July\n",
      "DATE that month\n",
      "PERSON Ector\n",
      "PERSON Ector\n",
      "CARDINAL half\n",
      "CARDINAL half\n",
      "TIME every night\n",
      "CARDINAL only one\n",
      "QUANTITY about half a mile\n",
      "CARDINAL two\n",
      "CARDINAL hundreds\n",
      "CARDINAL Half\n",
      "DATE July\n",
      "DATE July\n",
      "NORP Red Indians\n",
      "PERSON Ector\n",
      "PERSON Ector\n",
      "CARDINAL two-hundred\n",
      "CARDINAL two\n",
      "CARDINAL One\n",
      "CARDINAL one\n",
      "CARDINAL between two\n",
      "PERSON Ector\n",
      "PERSON Ector\n",
      "PERSON Wart\n",
      "PERSON Kay\n",
      "DATE two years\n",
      "CARDINAL only half\n",
      "DATE The day\n",
      "PERSON Grummore\n",
      "TIME the afternoon\n",
      "PERSON Ector\n",
      "QUANTITY a hundred yards\n",
      "PERSON Kay\n",
      "PERSON Ector\n",
      "PERSON Cully\n",
      "ORG Wart.\"The\n",
      "PERSON Kay\n",
      "PERSON Cully\n",
      "PERSON Wart\n",
      "PERSON Ector\n",
      "PERSON Wart\n",
      "PERSON Kay\n",
      "PERSON Kay\n",
      "PERSON Kay\n",
      "PERSON Wart\n",
      "ORG Mews\n",
      "ORG Mews\n",
      "CARDINAL one\n",
      "ORG Mews\n",
      "DATE wet nights\n",
      "PERSON Cardamum\n",
      "PERSON Ginger\n",
      "PERSON Barley Sugar\n",
      "ORG Wrangle\n",
      "GPE Snurt\n",
      "PERSON Craye\n",
      "PERSON Vertigo\n",
      "NORP Indian\n",
      "ORG Ector\n",
      "PERSON Kay\n",
      "DATE winter\n",
      "PERSON Ector\n",
      "DATE 11111111\n",
      "PERSON Harn 111\n",
      "TIME afternoon\n",
      "CARDINAL two\n",
      "PERSON Ector\n",
      "PERSON Cully\n",
      "ORG Mews\n",
      "DATE every day\n",
      "PERSON Ector\n",
      "TIME each morning\n",
      "TIME seven o'clock\n",
      "CARDINAL two\n",
      "PERSON Kay\n",
      "CARDINAL one\n",
      "PERSON Cully\n",
      "PERSON Kay\n",
      "PERSON Wart\n",
      "PERSON Kay\n",
      "CARDINAL hundreds\n",
      "PERSON Cully\n",
      "PRODUCT Wart.\"Hob\n",
      "PERSON Kay\n",
      "PERSON Cully\n",
      "ORG Wart\n",
      "PERSON Kay\n",
      "PERSON Cully\n",
      "PERSON Kay\n",
      "PERSON Cully\n",
      "PERSON Wart\n",
      "CARDINAL three\n",
      "CARDINAL three\n",
      "CARDINAL two\n"
     ]
    }
   ],
   "source": [
    "for ent in doc.ents:\n",
    "    print(ent.label_, ent.text)"
   ]
  },
  {
   "cell_type": "code",
   "execution_count": 35,
   "metadata": {},
   "outputs": [],
   "source": [
    "#Creating the same as above, but as a list and then outputting unique values via a set\n",
    "ent_list = [(ent.label_, ''.join(ent.text)) for ent in doc.ents]\n",
    "\n",
    "print(set(ent_list))"
   ]
  },
  {
   "cell_type": "code",
   "execution_count": 41,
   "metadata": {},
   "outputs": [
    {
     "name": "stdout",
     "output_type": "stream",
     "text": [
      "11\n"
     ]
    }
   ],
   "source": [
    "#Counting number of 'Wart' mentions\n",
    "count = 0\n",
    "for ent in doc.ents:\n",
    "    if 'Wart' in ent.text:\n",
    "        count += 1\n",
    "        \n",
    "print(count)"
   ]
  },
  {
   "cell_type": "markdown",
   "metadata": {},
   "source": [
    "Other libraries to explore: Polyglot(multilanguage), Gensim"
   ]
  },
  {
   "cell_type": "markdown",
   "metadata": {},
   "source": [
    "### Building ML text classifier Pipelines with SK-Learn"
   ]
  },
  {
   "cell_type": "code",
   "execution_count": 22,
   "metadata": {},
   "outputs": [],
   "source": [
    "#Loading the Spam Ham dataset\n",
    "df = pd.read_csv('spam.csv', encoding = \"ISO-8859-1\")"
   ]
  },
  {
   "cell_type": "code",
   "execution_count": 23,
   "metadata": {},
   "outputs": [
    {
     "data": {
      "text/html": [
       "<div>\n",
       "<style scoped>\n",
       "    .dataframe tbody tr th:only-of-type {\n",
       "        vertical-align: middle;\n",
       "    }\n",
       "\n",
       "    .dataframe tbody tr th {\n",
       "        vertical-align: top;\n",
       "    }\n",
       "\n",
       "    .dataframe thead th {\n",
       "        text-align: right;\n",
       "    }\n",
       "</style>\n",
       "<table border=\"1\" class=\"dataframe\">\n",
       "  <thead>\n",
       "    <tr style=\"text-align: right;\">\n",
       "      <th></th>\n",
       "      <th>v1</th>\n",
       "      <th>v2</th>\n",
       "      <th>Unnamed: 2</th>\n",
       "      <th>Unnamed: 3</th>\n",
       "      <th>Unnamed: 4</th>\n",
       "    </tr>\n",
       "  </thead>\n",
       "  <tbody>\n",
       "    <tr>\n",
       "      <th>0</th>\n",
       "      <td>ham</td>\n",
       "      <td>Go until jurong point, crazy.. Available only ...</td>\n",
       "      <td>NaN</td>\n",
       "      <td>NaN</td>\n",
       "      <td>NaN</td>\n",
       "    </tr>\n",
       "    <tr>\n",
       "      <th>1</th>\n",
       "      <td>ham</td>\n",
       "      <td>Ok lar... Joking wif u oni...</td>\n",
       "      <td>NaN</td>\n",
       "      <td>NaN</td>\n",
       "      <td>NaN</td>\n",
       "    </tr>\n",
       "    <tr>\n",
       "      <th>2</th>\n",
       "      <td>spam</td>\n",
       "      <td>Free entry in 2 a wkly comp to win FA Cup fina...</td>\n",
       "      <td>NaN</td>\n",
       "      <td>NaN</td>\n",
       "      <td>NaN</td>\n",
       "    </tr>\n",
       "  </tbody>\n",
       "</table>\n",
       "</div>"
      ],
      "text/plain": [
       "     v1                                                 v2 Unnamed: 2  \\\n",
       "0   ham  Go until jurong point, crazy.. Available only ...        NaN   \n",
       "1   ham                      Ok lar... Joking wif u oni...        NaN   \n",
       "2  spam  Free entry in 2 a wkly comp to win FA Cup fina...        NaN   \n",
       "\n",
       "  Unnamed: 3 Unnamed: 4  \n",
       "0        NaN        NaN  \n",
       "1        NaN        NaN  \n",
       "2        NaN        NaN  "
      ]
     },
     "execution_count": 23,
     "metadata": {},
     "output_type": "execute_result"
    }
   ],
   "source": [
    "df.head(3)"
   ]
  },
  {
   "cell_type": "code",
   "execution_count": 24,
   "metadata": {},
   "outputs": [
    {
     "data": {
      "text/html": [
       "<div>\n",
       "<style scoped>\n",
       "    .dataframe tbody tr th:only-of-type {\n",
       "        vertical-align: middle;\n",
       "    }\n",
       "\n",
       "    .dataframe tbody tr th {\n",
       "        vertical-align: top;\n",
       "    }\n",
       "\n",
       "    .dataframe thead th {\n",
       "        text-align: right;\n",
       "    }\n",
       "</style>\n",
       "<table border=\"1\" class=\"dataframe\">\n",
       "  <thead>\n",
       "    <tr style=\"text-align: right;\">\n",
       "      <th></th>\n",
       "      <th>label</th>\n",
       "      <th>text</th>\n",
       "    </tr>\n",
       "  </thead>\n",
       "  <tbody>\n",
       "    <tr>\n",
       "      <th>0</th>\n",
       "      <td>ham</td>\n",
       "      <td>Go until jurong point, crazy.. Available only ...</td>\n",
       "    </tr>\n",
       "    <tr>\n",
       "      <th>1</th>\n",
       "      <td>ham</td>\n",
       "      <td>Ok lar... Joking wif u oni...</td>\n",
       "    </tr>\n",
       "    <tr>\n",
       "      <th>2</th>\n",
       "      <td>spam</td>\n",
       "      <td>Free entry in 2 a wkly comp to win FA Cup fina...</td>\n",
       "    </tr>\n",
       "    <tr>\n",
       "      <th>3</th>\n",
       "      <td>ham</td>\n",
       "      <td>U dun say so early hor... U c already then say...</td>\n",
       "    </tr>\n",
       "    <tr>\n",
       "      <th>4</th>\n",
       "      <td>ham</td>\n",
       "      <td>Nah I don't think he goes to usf, he lives aro...</td>\n",
       "    </tr>\n",
       "  </tbody>\n",
       "</table>\n",
       "</div>"
      ],
      "text/plain": [
       "  label                                               text\n",
       "0   ham  Go until jurong point, crazy.. Available only ...\n",
       "1   ham                      Ok lar... Joking wif u oni...\n",
       "2  spam  Free entry in 2 a wkly comp to win FA Cup fina...\n",
       "3   ham  U dun say so early hor... U c already then say...\n",
       "4   ham  Nah I don't think he goes to usf, he lives aro..."
      ]
     },
     "execution_count": 24,
     "metadata": {},
     "output_type": "execute_result"
    }
   ],
   "source": [
    "#Renaming columns and dropping extras\n",
    "df = df.iloc[:,:2]\n",
    "df.columns = ['label', 'text']\n",
    "df.head()"
   ]
  },
  {
   "cell_type": "code",
   "execution_count": 49,
   "metadata": {},
   "outputs": [],
   "source": [
    "#Setting up the pipeline\n",
    "y = df.label\n",
    "#Split the data\n",
    "X_train, X_test, Y_train, Y_test = train_test_split(df['text'], y, test_size = .33, random_state = 42)\n",
    "#Initialize CountVectoriser\n",
    "cou_vec = CountVectorizer(stop_words = 'english')\n",
    "#Transform training data\n",
    "count_train = cou_vec.fit_transform(X_train.values)\n",
    "#Transform test data\n",
    "count_test = cou_vec.transform(X_test.values)"
   ]
  },
  {
   "cell_type": "code",
   "execution_count": 29,
   "metadata": {},
   "outputs": [
    {
     "data": {
      "text/plain": [
       "['00', '000', '000pes', '008704050406', '0089']"
      ]
     },
     "execution_count": 29,
     "metadata": {},
     "output_type": "execute_result"
    }
   ],
   "source": [
    "cou_vec.get_feature_names()[:5]"
   ]
  },
  {
   "cell_type": "code",
   "execution_count": 31,
   "metadata": {},
   "outputs": [],
   "source": [
    "#Setting up a similar pipeline but with a Tfidf vectorizer\n",
    "tfidf_vec = TfidfVectorizer(stop_words = 'english', max_df = 0.7)\n",
    "#Transform training data\n",
    "cou_tfi_train = tfidf_vec.fit_transform(X_train.values)\n",
    "#Transform test data\n",
    "cou_tfi_test = tfidf_vec.transform(X_test.values)"
   ]
  },
  {
   "cell_type": "code",
   "execution_count": 32,
   "metadata": {},
   "outputs": [
    {
     "data": {
      "text/plain": [
       "['00', '000', '000pes', '008704050406', '0089']"
      ]
     },
     "execution_count": 32,
     "metadata": {},
     "output_type": "execute_result"
    }
   ],
   "source": [
    "tfidf_vec.get_feature_names()[:5]"
   ]
  },
  {
   "cell_type": "code",
   "execution_count": 33,
   "metadata": {},
   "outputs": [
    {
     "data": {
      "text/plain": [
       "array([[0., 0., 0., ..., 0., 0., 0.],\n",
       "       [0., 0., 0., ..., 0., 0., 0.],\n",
       "       [0., 0., 0., ..., 0., 0., 0.],\n",
       "       [0., 0., 0., ..., 0., 0., 0.],\n",
       "       [0., 0., 0., ..., 0., 0., 0.]])"
      ]
     },
     "execution_count": 33,
     "metadata": {},
     "output_type": "execute_result"
    }
   ],
   "source": [
    "cou_tfi_train.A[:5]"
   ]
  },
  {
   "cell_type": "code",
   "execution_count": 36,
   "metadata": {},
   "outputs": [],
   "source": [
    "#Building the classifier using multinomial naive bayes\n",
    "nb_classifier = MultinomialNB()\n",
    "nb_classifier.fit(count_train, Y_train)\n",
    "pred = nb_classifier.predict(count_test)"
   ]
  },
  {
   "cell_type": "code",
   "execution_count": 38,
   "metadata": {},
   "outputs": [
    {
     "name": "stdout",
     "output_type": "stream",
     "text": [
      "0.9815116911364872\n"
     ]
    }
   ],
   "source": [
    "#Evaluating performance\n",
    "score = metrics.accuracy_score(Y_test, pred)\n",
    "print(score)"
   ]
  },
  {
   "cell_type": "code",
   "execution_count": 40,
   "metadata": {},
   "outputs": [
    {
     "name": "stdout",
     "output_type": "stream",
     "text": [
      "[[ 231   21]\n",
      " [  13 1574]]\n"
     ]
    }
   ],
   "source": [
    "confusion_matrix = metrics.confusion_matrix(Y_test, pred, labels = ['spam', 'ham'])\n",
    "print(confusion_matrix)"
   ]
  },
  {
   "cell_type": "code",
   "execution_count": 42,
   "metadata": {},
   "outputs": [],
   "source": [
    "#Running the same pipeline but with the tfidf approach\n",
    "nb_classifier2 = MultinomialNB()\n",
    "nb_classifier2.fit(cou_tfi_train, Y_train)\n",
    "pred2 = nb_classifier2.predict(cou_tfi_test)"
   ]
  },
  {
   "cell_type": "code",
   "execution_count": 43,
   "metadata": {},
   "outputs": [
    {
     "name": "stdout",
     "output_type": "stream",
     "text": [
      "0.967373572593801\n"
     ]
    }
   ],
   "source": [
    "#Performance eval\n",
    "score = metrics.accuracy_score(Y_test, pred2)\n",
    "print(score)"
   ]
  },
  {
   "cell_type": "code",
   "execution_count": 44,
   "metadata": {},
   "outputs": [
    {
     "name": "stdout",
     "output_type": "stream",
     "text": [
      "[[ 192   60]\n",
      " [   0 1587]]\n"
     ]
    }
   ],
   "source": [
    "confusion_matrix = metrics.confusion_matrix(Y_test, pred2, labels = ['spam', 'ham'])\n",
    "print(confusion_matrix)"
   ]
  },
  {
   "cell_type": "code",
   "execution_count": 47,
   "metadata": {},
   "outputs": [],
   "source": [
    "#Varying alpha values \n",
    "alphas = np.arange(start = 0, stop = 1, step = 0.1)\n",
    "\n",
    "def train_and_predict(alpha):\n",
    "    nb_cl = MultinomialNB(alpha = alpha)\n",
    "    nb_cl.fit(cou_tfi_train, Y_train)\n",
    "    pred = nb_cl.predict(cou_tfi_test)\n",
    "    score = metrics.accuracy_score(Y_test, pred)\n",
    "    return score"
   ]
  },
  {
   "cell_type": "code",
   "execution_count": 48,
   "metadata": {},
   "outputs": [
    {
     "name": "stdout",
     "output_type": "stream",
     "text": [
      "Alpha:  0.0\n",
      "Score:  0.9749864056552474\n",
      "\n",
      "Alpha:  0.1\n",
      "Score:  0.9809679173463839\n",
      "\n",
      "Alpha:  0.2\n",
      "Score:  0.9825992387166939\n",
      "\n",
      "Alpha:  0.30000000000000004\n",
      "Score:  0.9793365959760739\n",
      "\n",
      "Alpha:  0.4\n",
      "Score:  0.977705274605764\n",
      "\n",
      "Alpha:  0.5\n",
      "Score:  0.9771615008156607\n",
      "\n",
      "Alpha:  0.6000000000000001\n",
      "Score:  0.9760739532354541\n",
      "\n",
      "Alpha:  0.7000000000000001\n",
      "Score:  0.9755301794453507\n",
      "\n",
      "Alpha:  0.8\n",
      "Score:  0.9711799891245242\n",
      "\n",
      "Alpha:  0.9\n",
      "Score:  0.9695486677542142\n",
      "\n"
     ]
    },
    {
     "name": "stderr",
     "output_type": "stream",
     "text": [
      "/home/luco17/Documents/test_area/DCMP/dcmp-env/lib/python3.6/site-packages/sklearn/naive_bayes.py:480: UserWarning: alpha too small will result in numeric errors, setting alpha = 1.0e-10\n",
      "  'setting alpha = %.1e' % _ALPHA_MIN)\n"
     ]
    }
   ],
   "source": [
    "for a in alphas:\n",
    "    print('Alpha: ', a)\n",
    "    print('Score: ', train_and_predict(a))\n",
    "    print()"
   ]
  },
  {
   "cell_type": "code",
   "execution_count": 51,
   "metadata": {},
   "outputs": [
    {
     "name": "stdout",
     "output_type": "stream",
     "text": [
      "ham [(-9.588160179264023, '000pes'), (-9.588160179264023, '0125698789'), (-9.588160179264023, '0quit'), (-9.588160179264023, '1030'), (-9.588160179264023, '1120'), (-9.588160179264023, '116'), (-9.588160179264023, '1205'), (-9.588160179264023, '128'), (-9.588160179264023, '130'), (-9.588160179264023, '15'), (-9.588160179264023, '15pm'), (-9.588160179264023, '1hr'), (-9.588160179264023, '1mega'), (-9.588160179264023, '1pm'), (-9.588160179264023, '1stone'), (-9.588160179264023, '1thing'), (-9.588160179264023, '255'), (-9.588160179264023, '2getha'), (-9.588160179264023, '2geva'), (-9.588160179264023, '2go')]\n"
     ]
    }
   ],
   "source": [
    "#Extracting values to see what did what in the model\n",
    "class_labels = nb_classifier.classes_\n",
    "feature_names = cou_vec.get_feature_names()\n",
    "feat_weights = sorted(zip(nb_classifier.coef_[0], feature_names))\n",
    "print(class_labels[0], feat_weights[:20])"
   ]
  },
  {
   "cell_type": "code",
   "execution_count": 52,
   "metadata": {},
   "outputs": [
    {
     "name": "stdout",
     "output_type": "stream",
     "text": [
      "spam [(-5.826960063570461, '50'), (-5.826960063570461, 'urgent'), (-5.781497689493703, 'nokia'), (-5.781497689493703, 'win'), (-5.7595187827749275, 'new'), (-5.738012577553964, 'send'), (-5.716959168356132, 'uk'), (-5.636916460682595, 'just'), (-5.562808488528873, 'cash'), (-5.545108911429472, 'won'), (-5.44502545287249, 'prize'), (-5.413772909368386, 'reply'), (-5.383467559873057, 'www'), (-5.218712326797001, 'claim'), (-5.157343380420709, 'stop'), (-5.157343380420709, 'text'), (-5.122252060609439, 'ur'), (-5.110823364785816, 'mobile'), (-4.869661307968928, 'txt'), (-4.531914373915715, 'free')]\n"
     ]
    }
   ],
   "source": [
    "print(class_labels[1], feat_weights[-20:])"
   ]
  }
 ],
 "metadata": {
  "celltoolbar": "Raw Cell Format",
  "kernelspec": {
   "display_name": "dcmp-env",
   "language": "python",
   "name": "dcmp-env"
  },
  "language_info": {
   "codemirror_mode": {
    "name": "ipython",
    "version": 3
   },
   "file_extension": ".py",
   "mimetype": "text/x-python",
   "name": "python",
   "nbconvert_exporter": "python",
   "pygments_lexer": "ipython3",
   "version": "3.6.7"
  }
 },
 "nbformat": 4,
 "nbformat_minor": 2
}
